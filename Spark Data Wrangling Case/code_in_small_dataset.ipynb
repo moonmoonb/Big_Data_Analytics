{
 "cells": [
  {
   "cell_type": "markdown",
   "id": "15f1f0b0",
   "metadata": {},
   "source": [
    "# Cleanup the data and get the required field"
   ]
  },
  {
   "cell_type": "code",
   "execution_count": 2,
   "id": "166b237e",
   "metadata": {},
   "outputs": [],
   "source": [
    "sc.stop()"
   ]
  },
  {
   "cell_type": "code",
   "execution_count": 2,
   "id": "c614dd38",
   "metadata": {},
   "outputs": [],
   "source": [
    "import sys\n",
    "sc = SparkContext(appName='Taxi-Assignment')\n",
    "lines = sc.textFile(\"./data/taxi-data-sorted-small.csv.bz2\")\n",
    "taxilines = lines.map(lambda x: x.split(','))\n",
    "\n",
    "def isfloat(value):\n",
    "    try:\n",
    "        float(value)\n",
    "        return True\n",
    "    except:\n",
    "        return False\n",
    "    \n",
    "def correctRows(p):\n",
    "    if(len(p) == 17):\n",
    "        if(isfloat(p[5]) and isfloat(p[11])):\n",
    "            if(float(p[5]) != 0 and isfloat(p[11]) != 0):\n",
    "                return p\n",
    "            \n",
    "textlinesCorrected = taxilines.filter(correctRows)"
   ]
  },
  {
   "cell_type": "markdown",
   "id": "deef87d9",
   "metadata": {},
   "source": [
    "# Check if the dataset is cleanup."
   ]
  },
  {
   "cell_type": "code",
   "execution_count": 4,
   "id": "4431da50",
   "metadata": {},
   "outputs": [
    {
     "data": {
      "text/plain": [
       "[['07290D3599E7A0D62097A346EFCC1FB5',\n",
       "  'E7750A37CAB07D0DFF0AF7E3573AC141',\n",
       "  '2013-01-01 00:00:00',\n",
       "  '2013-01-01 00:02:00',\n",
       "  '120',\n",
       "  '0.44',\n",
       "  '-73.956528',\n",
       "  '40.716976',\n",
       "  '-73.962440',\n",
       "  '40.715008',\n",
       "  'CSH',\n",
       "  '3.50',\n",
       "  '0.50',\n",
       "  '0.50',\n",
       "  '0.00',\n",
       "  '0.00',\n",
       "  '4.50']]"
      ]
     },
     "execution_count": 4,
     "metadata": {},
     "output_type": "execute_result"
    }
   ],
   "source": [
    "textlinesCorrected.take(1)"
   ]
  },
  {
   "cell_type": "code",
   "execution_count": 15,
   "id": "8cef806f",
   "metadata": {},
   "outputs": [
    {
     "data": {
      "text/plain": [
       "pyspark.rdd.PipelinedRDD"
      ]
     },
     "execution_count": 15,
     "metadata": {},
     "output_type": "execute_result"
    }
   ],
   "source": [
    "type(textlinesCorrected)\n"
   ]
  },
  {
   "cell_type": "code",
   "execution_count": 16,
   "id": "8168d4cb",
   "metadata": {},
   "outputs": [],
   "source": [
    "taxi_driver = \\\n",
    "            textlinesCorrected.map(lambda x: (x[0], 1)).\\\n",
    "            reduceByKey(lambda x, y: x + y).top(10)"
   ]
  },
  {
   "cell_type": "code",
   "execution_count": 17,
   "id": "fe0ea37c",
   "metadata": {},
   "outputs": [
    {
     "data": {
      "text/plain": [
       "[('FFFECF75AB6CC4FF9E8A8B633AB81C26', 240),\n",
       " ('FFF010F904EF7B60DAF12560AFE5127C', 1),\n",
       " ('FFEF5E9BA26FC9B6B5F2CF433833572D', 5),\n",
       " ('FFEE0D464EEA83AF6EA50CA5738B5610', 208),\n",
       " ('FFED7CFCB1A658ADEC2DC6A899047060', 309),\n",
       " ('FFE25FFFBDE6A6019A6A9051C4E798FA', 1),\n",
       " ('FFE1AB76511357473BE3236025321493', 171),\n",
       " ('FFD1575DA3F4DB85CCEC9FFBEAE16AEF', 291),\n",
       " ('FFCFA7AFF0DE2B5081C6C1A11099A691', 357),\n",
       " ('FFC6BE0FC070E78A65F9A0858D10ED63', 378)]"
      ]
     },
     "execution_count": 17,
     "metadata": {},
     "output_type": "execute_result"
    }
   ],
   "source": [
    "taxi_driver"
   ]
  },
  {
   "cell_type": "markdown",
   "id": "f9d9a82e",
   "metadata": {},
   "source": [
    "# 4.1 Task1: Top-10 Active Taxis"
   ]
  },
  {
   "cell_type": "code",
   "execution_count": 21,
   "id": "3203feb6",
   "metadata": {},
   "outputs": [
    {
     "data": {
      "text/plain": [
       "[('65EFB7D02BAD12D5DE757CB5D350944E', 20),\n",
       " ('3C08296D0EB7ABE24FB7328DE9B62813', 20),\n",
       " ('7DEB25123AE57111F912C0EBF92F1F63', 19),\n",
       " ('3B6AE3CF05F34ADC91DC68D20F2EB913', 19),\n",
       " ('F36564AB9C6EA3B6373EB0E1680A447A', 19),\n",
       " ('55D311AD2752BC278BEF7386B25B28A9', 19),\n",
       " ('CD7B02776E69483397952DC5E1F44DFE', 19),\n",
       " ('F2A08960199BCDB7EE19411A8E7A4C5D', 18),\n",
       " ('799153A138F4E8334A1A95AE25040B83', 18),\n",
       " ('9FB7A7C1D7B960D8B17829145C6A1CF2', 18)]"
      ]
     },
     "execution_count": 21,
     "metadata": {},
     "output_type": "execute_result"
    }
   ],
   "source": [
    "# The first map(taxi_driver_distinct) is to get the distinct relationship between taxi and driver.\n",
    "\n",
    "taxi_driver_distinct = textlinesCorrected.map(lambda x : (x[0], x[1])).distinct()\n",
    "\n",
    "# The next map is to separate taxi id from original rdd. The 'reducebykey' is to sum up \n",
    "# all the same taxis(which is a taxi map to the amount of drivers). Finally, I calculate \n",
    "# the top 10 taxis in pairs.\n",
    "\n",
    "taxi_driver = taxi_driver_distinct.map(lambda x: (x[0], 1)).\\\n",
    "            reduceByKey(lambda x, y: x + y).top(10, lambda x: x[1])\n",
    "\n",
    "taxi_driver\n"
   ]
  },
  {
   "cell_type": "markdown",
   "id": "e89a3571",
   "metadata": {},
   "source": [
    "# 4.2 Task2: Top-10 Best Drivers"
   ]
  },
  {
   "cell_type": "code",
   "execution_count": 18,
   "id": "e8885151",
   "metadata": {},
   "outputs": [
    {
     "data": {
      "text/plain": [
       "[('FFFBCEA3D4E21E05902EE67AD556F67C', 1779.0),\n",
       " ('FFF909B1353148850AD3E40BB878618B', 1528.0),\n",
       " ('FFF657CFEC6A06384C97ACB500916913', 1206.0),\n",
       " ('FFF6401CC16911710E7590FE197E986A', 370.0),\n",
       " ('FFF5AD65C673251C1F275CF5B43EC414', 8.45),\n",
       " ('FFF20BA1518E14B3B23F79DDDE1CA7E6', 2131.0),\n",
       " ('FFF0D1CE8F65C1A8B213128325EB5F33', 7.633333333333334),\n",
       " ('FFEE627F76A3A498DA53E200821FDEE9', 1965.0),\n",
       " ('FFEB80F39533ACF27F3124A39BB05E1E', 2395.0),\n",
       " ('FFDC72D8EE2737AEA6E0E9D7DDF4942E', 792.0)]"
      ]
     },
     "execution_count": 18,
     "metadata": {},
     "output_type": "execute_result"
    }
   ],
   "source": [
    "# First, I create a new rdd with total duration of the trip(in minutes) for each driver\n",
    "driver_total_duration_min = textlinesCorrected.\\\n",
    "                            map(lambda x :(x[1], int(x[4])/60)).\\\n",
    "                            reduceByKey(lambda x,y: x+y)\n",
    "driver_total_duration_min.top(10)"
   ]
  },
  {
   "cell_type": "code",
   "execution_count": 19,
   "id": "9fdd8234",
   "metadata": {},
   "outputs": [
    {
     "data": {
      "text/plain": [
       "[('FFFBCEA3D4E21E05902EE67AD556F67C', 2364.69),\n",
       " ('FFF909B1353148850AD3E40BB878618B', 1785.4899999999998),\n",
       " ('FFF657CFEC6A06384C97ACB500916913', 1769.9300000000003),\n",
       " ('FFF6401CC16911710E7590FE197E986A', 466.75),\n",
       " ('FFF5AD65C673251C1F275CF5B43EC414', 17.77),\n",
       " ('FFF20BA1518E14B3B23F79DDDE1CA7E6', 2775.43),\n",
       " ('FFF0D1CE8F65C1A8B213128325EB5F33', 11.7),\n",
       " ('FFEE627F76A3A498DA53E200821FDEE9', 2916.2999999999997),\n",
       " ('FFEB80F39533ACF27F3124A39BB05E1E', 2883.8300000000004),\n",
       " ('FFDC72D8EE2737AEA6E0E9D7DDF4942E', 893.25)]"
      ]
     },
     "execution_count": 19,
     "metadata": {},
     "output_type": "execute_result"
    }
   ],
   "source": [
    "# Then, I create a new rdd with total amount of each driver got paid\n",
    "driver_total_paid = textlinesCorrected.\\\n",
    "                    map(lambda x :(x[1], float(x[16]))).\\\n",
    "                    reduceByKey(lambda x,y: x+y)\n",
    "driver_total_paid.top(10)"
   ]
  },
  {
   "cell_type": "code",
   "execution_count": 14,
   "id": "fe89baaf",
   "metadata": {},
   "outputs": [
    {
     "data": {
      "text/plain": [
       "[('30B2ACBAF002305533FF0D31D34A7C06', 702.0),\n",
       " ('4C3B2A31227663A59E1AA7B45157160D', 625.0),\n",
       " ('08026D69508127F4DE855678ABCE7E0A', 375.0),\n",
       " ('6E1D7195E38AA7A36B375C1C60AD8632', 317.3076923076923),\n",
       " ('E8E22AC46DF6AC99C28C6860779A648C', 273.0),\n",
       " ('975D5E840C0F5D9611A71E9A811D11F7', 190.90909090909093),\n",
       " ('17F72121B9F612D81AC4556CC18D5514', 107.14285714285714),\n",
       " ('619BF4020E6542AA0E28FBC7081271F1', 105.88235294117648),\n",
       " ('CD9D0B4429613F1B62D1D4FBB72ACF2B', 103.25172413793103),\n",
       " ('52C99F4F8CD2560F8793FE835B6B56BA', 89.28571428571429)]"
      ]
     },
     "execution_count": 14,
     "metadata": {},
     "output_type": "execute_result"
    }
   ],
   "source": [
    "# The last step is to join these 2 rdd. Then calculate the best average \n",
    "best_average_earn = driver_total_duration_min.join(driver_total_paid).\\\n",
    "                    filter(lambda x: x[1][0] != 0).\\\n",
    "                    mapValues(lambda x: x[1]/x[0]).\\\n",
    "                    top(10, lambda x: x[1])\n",
    "best_average_earn"
   ]
  },
  {
   "cell_type": "code",
   "execution_count": 1,
   "id": "9c7d252d",
   "metadata": {},
   "outputs": [],
   "source": [
    "sc.stop()"
   ]
  },
  {
   "cell_type": "code",
   "execution_count": 15,
   "id": "80a5c833",
   "metadata": {},
   "outputs": [
    {
     "data": {
      "text/html": [
       "\n",
       "        <div>\n",
       "            <p><b>SparkContext</b></p>\n",
       "\n",
       "            <p><a href=\"http://Pickleman:4040\">Spark UI</a></p>\n",
       "\n",
       "            <dl>\n",
       "              <dt>Version</dt>\n",
       "                <dd><code>v3.0.0</code></dd>\n",
       "              <dt>Master</dt>\n",
       "                <dd><code>local[*]</code></dd>\n",
       "              <dt>AppName</dt>\n",
       "                <dd><code>Taxi-Assignment</code></dd>\n",
       "            </dl>\n",
       "        </div>\n",
       "        "
      ],
      "text/plain": [
       "<SparkContext master=local[*] appName=Taxi-Assignment>"
      ]
     },
     "execution_count": 15,
     "metadata": {},
     "output_type": "execute_result"
    }
   ],
   "source": [
    "sc"
   ]
  },
  {
   "cell_type": "code",
   "execution_count": null,
   "id": "0aa0b272",
   "metadata": {},
   "outputs": [],
   "source": []
  }
 ],
 "metadata": {
  "kernelspec": {
   "display_name": "Python 3",
   "language": "python",
   "name": "python3"
  },
  "language_info": {
   "codemirror_mode": {
    "name": "ipython",
    "version": 3
   },
   "file_extension": ".py",
   "mimetype": "text/x-python",
   "name": "python",
   "nbconvert_exporter": "python",
   "pygments_lexer": "ipython3",
   "version": "3.8.8"
  }
 },
 "nbformat": 4,
 "nbformat_minor": 5
}
